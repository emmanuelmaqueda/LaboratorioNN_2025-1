{
  "nbformat": 4,
  "nbformat_minor": 0,
  "metadata": {
    "colab": {
      "provenance": []
    },
    "kernelspec": {
      "name": "python3",
      "display_name": "Python 3"
    },
    "language_info": {
      "name": "python"
    }
  },
  "cells": [
    {
      "cell_type": "markdown",
      "source": [],
      "metadata": {
        "id": "cZc05V2yL0_9"
      }
    },
    {
      "cell_type": "markdown",
      "source": [
        "###AdaGrad\n",
        "\n",
        "AdaGrad (Adaptative Gradient Algorithm o Algoritmo de Gradiente Adaptativo) es una modificación de Stochastic Gradient Descent en la que se utilizan diferentes tasas de aprendizaje para las variables teniendo en cuenta el gradiente acumulado en cada una de ellas.\n",
        "\n",
        "Un problema de este optimizador es que, en ocasiones, puede ocurrir que la tasa de aprendizaje para una variable decrezca demasiado rápidamente debido a la acumulación de altos valores del gradiente al comienzo del entrenamiento, lo que puede llevar a que el aprendiz no sea capaz de aproximarse al mínimo en dicha dimensión.\n",
        "\n",
        "![image.png](data:image/png;base64,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)\n",
        "\n"
      ],
      "metadata": {
        "id": "1Ao2Z4oiL1gF"
      }
    },
    {
      "cell_type": "code",
      "execution_count": 1,
      "metadata": {
        "colab": {
          "base_uri": "https://localhost:8080/"
        },
        "id": "E1Xv6-gvLZk7",
        "outputId": "4825fa2f-f7d4-4283-9979-5a01c7dafcf3"
      },
      "outputs": [
        {
          "output_type": "stream",
          "name": "stdout",
          "text": [
            "Parámetros actualizados:\n",
            "W1: [[ 1.66405237  0.5001572   0.87873798  2.1408932 ]\n",
            " [ 1.767558   -1.07727788  1.05008842 -0.05135721]\n",
            " [-0.00321885  0.31059851  0.04404357  1.35427351]]\n",
            "b1: [0.86103772 0.22167501 0.54386323 0.43367433]\n",
            "W2: [[ 1.59407907 -0.30515826]\n",
            " [ 0.4130677  -0.75409574]\n",
            " [-2.45298982  0.5536186 ]\n",
            " [ 0.9644362  -0.64216503]]\n",
            "b2: [ 2.36975462 -1.55436567]\n"
          ]
        }
      ],
      "source": [
        "import numpy as np\n",
        "\n",
        "class AdagradOptimizer:\n",
        "    def __init__(self, learning_rate=0.1, epsilon=1e-8):\n",
        "        self.learning_rate = learning_rate\n",
        "        self.epsilon = epsilon\n",
        "        self.grad_squared_accum = {}\n",
        "\n",
        "    def update(self, params, grads):\n",
        "        # Si es la primera vez, inicializamos el acumulador de gradientes\n",
        "        for key in params:\n",
        "            if key not in self.grad_squared_accum:\n",
        "\n",
        "            # Acumulamr el cuadrado de los gradientes\n",
        "\n",
        "            # Actualizar los parámetros usando Adagrad\n",
        "\n",
        "# Ejemplo de uso:\n",
        "np.random.seed(0)\n",
        "\n",
        "# Inicializamos los parámetros de ejemplo\n",
        "params = {\n",
        "    \"W1\": np.random.randn(3, 4),\n",
        "    \"b1\": np.random.randn(4),\n",
        "    \"W2\": np.random.randn(4, 2),\n",
        "    \"b2\": np.random.randn(2)\n",
        "}\n",
        "\n",
        "\n",
        "grads = {\n",
        "    \"W1\": np.random.randn(3, 4),\n",
        "    \"b1\": np.random.randn(4),\n",
        "    \"W2\": np.random.randn(4, 2),\n",
        "    \"b2\": np.random.randn(2)\n",
        "}\n",
        "\n",
        "optimizer = AdagradOptimizer(learning_rate=0.1, epsilon=1e-8)\n",
        "\n",
        "optimizer.update(params, grads)\n",
        "\n",
        "print(\"Parámetros actualizados:\")\n",
        "for key in params:\n",
        "    print(f\"{key}: {params[key]}\")\n"
      ]
    },
    {
      "cell_type": "code",
      "source": [
        "##RED NEURAL\n",
        "\n",
        "import numpy as np\n",
        "\n",
        "# Definimos las funciones de activación\n",
        "def relu(x):\n",
        "\n",
        "\n",
        "def tanh(x):\n",
        "\n",
        "\n",
        "def softmax(x):\n",
        "\n",
        "\n",
        "def cross_entropy_loss(y_pred, y_true):\n",
        "    ...\n",
        "    return np.sum(logp) / n_samples\n",
        "\n",
        "# Derivadas de las funciones de activación\n",
        "def relu_derivative(x):\n",
        "    return np.where(x > 0, 1, 0)\n",
        "\n",
        "def tanh_derivative(x):\n",
        "    return 1 - np.tanh(x)**2\n",
        "\n",
        "# Definimos una clase para la red neuronal\n",
        "class NeuralNetwork:\n",
        "    def __init__(self, input_size, hidden1_size, hidden2_size, output_size):\n",
        "        # Inicializamos los pesos y bias\n",
        "        self.params = {\n",
        "            \"W1\": np.random.randn(input_size, hidden1_size) * 0.01,\n",
        "            \"b1\": np.zeros((1, hidden1_size)),\n",
        "            ...\n",
        "        }\n",
        "        self.optimizer = AdagradOptimizer(learning_rate=0.1, epsilon=1e-8)\n",
        "\n",
        "    def forward(self, X):\n",
        "        # Capa 1: Linear -> Tanh\n",
        "        self.XXX = np.dot(X, self.params[XXX]) + self.params[XXX]\n",
        "        self.XXX = tanh(self.XXX)\n",
        "\n",
        "        # Capa 2: Linear -> ReLU\n",
        "\n",
        "        # Capa de salida: Linear -> Softmax\n",
        "\n",
        "        return\n",
        "\n",
        "    def backward(self, X, y_true):\n",
        "        m = X.shape[0] ##para normalizar gradiente usamos todo el lote\n",
        "        y_pred = XXX\n",
        "\n",
        "\n",
        "        # Gradiente para la capa de salida (softmax -> cross_entropy)\n",
        "        dZ3 = y_pred\n",
        "        dZ3[range(m), y_true] -= 1\n",
        "        dZ3 /= m\n",
        "\n",
        "        # Gradientes de la última capa\n",
        "        dW3 = np.dot(self.XXX.T, dZ3)\n",
        "        db3 = np.sum(dZ3, axis=0, keepdims=True)\n",
        "\n",
        "        # Gradientes de la segunda capa (ReLU)\n",
        "        dA2 = np.dot(dZ3, self.params['W3'].T)\n",
        "        dZ2 = dA2 * relu_derivative(self.Z2)\n",
        "        ...\n",
        "\n",
        "        # Gradientes de la primera capa (Tanh)\n",
        "        dA1 = np.dot(dZ2, self.params['W2'].T)\n",
        "\n",
        "\n",
        "        # Retornamos los gradientes\n",
        "        grads = {\"W1\": dW1, \"b1\": db1, \"W2\": dW2, \"b2\": db2, \"W3\": dW3, \"b3\": db3}\n",
        "        return grads\n",
        "\n",
        "    def train(self, X, y, epochs=100, batch_size=10):\n",
        "        for epoch in range(epochs):\n",
        "            for i in range(0, X.shape[0], batch_size):\n",
        "                ...\n",
        "                # Forward pass\n",
        "                y_pred = self.forward(X_batch)\n",
        "\n",
        "                # Backward pass\n",
        "                grads = self.backward(X_batch, y_batch)\n",
        "\n",
        "                # Actualizar los parámetros usando Adagrad\n",
        "                ...\n",
        "\n",
        "            # Calculamos y mostramos el loss cada 10 épocas\n",
        "            if epoch % 10 == 0:\n",
        "                loss = cross_entropy_loss(self.forward(X), y)\n",
        "                print(f'Epoch {epoch}/{epochs}, Loss: {loss:.4f}')\n",
        "\n",
        "# Ejemplo de uso con datos ficticios\n",
        "np.random.seed(42)\n",
        "X = np.random.randn(100, 3)  # 100 ejemplos, 3 características\n",
        "y = np.random.randint(0, 2, 100)  # 100 etiquetas binarias (0 o 1)\n",
        "\n",
        "# Creamos la red\n",
        "network = NeuralNetwork(input_size=3, hidden1_size=5, hidden2_size=4, output_size=2)\n",
        "\n",
        "# Entrenamos la red con 100 épocas y mini-lotes de tamaño 10\n",
        "network.train(X, y, epochs=100, batch_size=10)\n"
      ],
      "metadata": {
        "colab": {
          "base_uri": "https://localhost:8080/"
        },
        "id": "GQBLPJ3zMsDC",
        "outputId": "5bd9261f-cbc2-44f4-f243-a332352259de"
      },
      "execution_count": 2,
      "outputs": [
        {
          "output_type": "stream",
          "name": "stdout",
          "text": [
            "Epoch 0/100, Loss: 0.6801\n",
            "Epoch 10/100, Loss: 0.6473\n",
            "Epoch 20/100, Loss: 0.6412\n",
            "Epoch 30/100, Loss: 0.6376\n",
            "Epoch 40/100, Loss: 0.6349\n",
            "Epoch 50/100, Loss: 0.6323\n",
            "Epoch 60/100, Loss: 0.6303\n",
            "Epoch 70/100, Loss: 0.6284\n",
            "Epoch 80/100, Loss: 0.6250\n",
            "Epoch 90/100, Loss: 0.6211\n"
          ]
        }
      ]
    }
  ]
}
